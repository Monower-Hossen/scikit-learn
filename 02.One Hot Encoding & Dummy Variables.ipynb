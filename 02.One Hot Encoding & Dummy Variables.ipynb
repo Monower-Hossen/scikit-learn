{
 "cells": [
  {
   "cell_type": "markdown",
   "id": "d128febf-5fcf-4322-8bd6-879a9f39b120",
   "metadata": {},
   "source": [
    "# 🔰 Step 1: Import Libraries"
   ]
  },
  {
   "cell_type": "code",
   "execution_count": 1,
   "id": "81ef6f3f-a12f-41de-b51a-4995a2c47ccc",
   "metadata": {},
   "outputs": [],
   "source": [
    "import pandas as pd\n",
    "from sklearn.preprocessing import OneHotEncoder"
   ]
  },
  {
   "cell_type": "markdown",
   "id": "1a4526da-3dec-4146-90e0-02e322a8da29",
   "metadata": {},
   "source": [
    "# 🔰 Step 2: Create a Small Categorical Dataset"
   ]
  },
  {
   "cell_type": "code",
   "execution_count": 2,
   "id": "4208d7fa-ff10-4db3-b51d-294507309e2e",
   "metadata": {},
   "outputs": [
    {
     "name": "stdout",
     "output_type": "stream",
     "text": [
      "📋 Original Data:\n",
      "   Color Size\n",
      "0    Red    S\n",
      "1  Green    M\n",
      "2   Blue    L\n",
      "3  Green    S\n",
      "4    Red    M\n"
     ]
    }
   ],
   "source": [
    "df = pd.DataFrame({\n",
    "    'Color': ['Red', 'Green', 'Blue', 'Green', 'Red'],\n",
    "    'Size': ['S', 'M', 'L', 'S', 'M']\n",
    "})\n",
    "\n",
    "print(\"📋 Original Data:\")\n",
    "print(df)\n"
   ]
  },
  {
   "cell_type": "markdown",
   "id": "a7cea1c9-d57a-4c61-8e03-d4e76bddfaf5",
   "metadata": {},
   "source": [
    "# 🔰 Step 3: One Hot Encoding using sklearn"
   ]
  },
  {
   "cell_type": "code",
   "execution_count": 4,
   "id": "e901fa78-43bc-4549-b845-9b977221f0f8",
   "metadata": {},
   "outputs": [],
   "source": [
    "encoder = OneHotEncoder(sparse_output=False)"
   ]
  },
  {
   "cell_type": "code",
   "execution_count": 5,
   "id": "f1b80399-909c-4ca6-a23c-1bc600c39f48",
   "metadata": {},
   "outputs": [],
   "source": [
    "# Fit and transform\n",
    "encoded_array = encoder.fit_transform(df[['Color', 'Size']])"
   ]
  },
  {
   "cell_type": "code",
   "execution_count": 6,
   "id": "a693e94a-1cb7-4b77-8b65-3ac930be2856",
   "metadata": {},
   "outputs": [
    {
     "name": "stdout",
     "output_type": "stream",
     "text": [
      "\n",
      "🔵 One Hot Encoded Data (sklearn):\n",
      "   Color_Blue  Color_Green  Color_Red  Size_L  Size_M  Size_S\n",
      "0         0.0          0.0        1.0     0.0     0.0     1.0\n",
      "1         0.0          1.0        0.0     0.0     1.0     0.0\n",
      "2         1.0          0.0        0.0     1.0     0.0     0.0\n",
      "3         0.0          1.0        0.0     0.0     0.0     1.0\n",
      "4         0.0          0.0        1.0     0.0     1.0     0.0\n"
     ]
    }
   ],
   "source": [
    "# Convert to DataFrame with proper column names\n",
    "encoded_df = pd.DataFrame(encoded_array, columns=encoder.get_feature_names_out(['Color', 'Size']))\n",
    "\n",
    "print(\"\\n🔵 One Hot Encoded Data (sklearn):\")\n",
    "print(encoded_df)"
   ]
  },
  {
   "cell_type": "markdown",
   "id": "af5b6808-306c-4acf-853b-47389980c359",
   "metadata": {},
   "source": [
    "# Dummy Variables:"
   ]
  },
  {
   "cell_type": "markdown",
   "id": "fe29df51-2e8d-419e-acb2-898190c2dbe6",
   "metadata": {},
   "source": [
    "# 🔰 Step 4: Dummy Variables using pandas"
   ]
  },
  {
   "cell_type": "code",
   "execution_count": 8,
   "id": "a8f7edf9-a811-4cfc-b550-4c1b97630fc4",
   "metadata": {},
   "outputs": [
    {
     "name": "stdout",
     "output_type": "stream",
     "text": [
      "\n",
      "🟢 Dummy Variable Encoded Data (pandas):\n",
      "   Color_Green  Color_Red  Size_M  Size_S\n",
      "0        False       True   False    True\n",
      "1         True      False    True   False\n",
      "2        False      False   False   False\n",
      "3         True      False   False    True\n",
      "4        False       True    True   False\n"
     ]
    }
   ],
   "source": [
    "dummy_df = pd.get_dummies(df, drop_first=True)\n",
    "\n",
    "print(\"\\n🟢 Dummy Variable Encoded Data (pandas):\")\n",
    "print(dummy_df)"
   ]
  }
 ],
 "metadata": {
  "kernelspec": {
   "display_name": "Python 3 (ipykernel)",
   "language": "python",
   "name": "python3"
  },
  "language_info": {
   "codemirror_mode": {
    "name": "ipython",
    "version": 3
   },
   "file_extension": ".py",
   "mimetype": "text/x-python",
   "name": "python",
   "nbconvert_exporter": "python",
   "pygments_lexer": "ipython3",
   "version": "3.12.6"
  }
 },
 "nbformat": 4,
 "nbformat_minor": 5
}
