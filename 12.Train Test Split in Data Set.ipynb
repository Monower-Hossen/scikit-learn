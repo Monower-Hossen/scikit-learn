{
 "cells": [
  {
   "cell_type": "markdown",
   "id": "453dd3ed-3886-4a5b-a63f-eb0bdd9d31b9",
   "metadata": {},
   "source": [
    "## Train Test Split in Data Set"
   ]
  },
  {
   "cell_type": "markdown",
   "id": "70a93026-9c70-4da0-94fc-d1f95ecb955e",
   "metadata": {},
   "source": [
    "In machine learning, Train-Test Split is a technique used to evaluate how well a model generalizes to unseen data. It involves dividing the dataset into two parts:\n",
    "\n",
    "### 1. Training Set\n",
    "- Used to train the model.\n",
    "- Usually 70–80% of the entire dataset.\n",
    "\n",
    "### 2. Test Set\n",
    "- Used to evaluate the trained model’s performance.\n",
    "- Usually 20–30% of the dataset.\n",
    "\n",
    "### Why Train-Test Split?\n",
    "- To detect overfitting or underfitting.\n",
    "- To get an unbiased evaluation of a model's performance.\n",
    "\n"
   ]
  },
  {
   "cell_type": "code",
   "execution_count": 1,
   "id": "159efb7b-4fdd-4493-9b0c-2c332e5f9ff1",
   "metadata": {},
   "outputs": [],
   "source": [
    "import pandas as pd"
   ]
  },
  {
   "cell_type": "code",
   "execution_count": 2,
   "id": "a156bd98-4ca9-4dfe-ba9f-6a83bbcd4d04",
   "metadata": {},
   "outputs": [
    {
     "data": {
      "text/html": [
       "<div>\n",
       "<style scoped>\n",
       "    .dataframe tbody tr th:only-of-type {\n",
       "        vertical-align: middle;\n",
       "    }\n",
       "\n",
       "    .dataframe tbody tr th {\n",
       "        vertical-align: top;\n",
       "    }\n",
       "\n",
       "    .dataframe thead th {\n",
       "        text-align: right;\n",
       "    }\n",
       "</style>\n",
       "<table border=\"1\" class=\"dataframe\">\n",
       "  <thead>\n",
       "    <tr style=\"text-align: right;\">\n",
       "      <th></th>\n",
       "      <th>Unnamed: 0</th>\n",
       "      <th>crim</th>\n",
       "      <th>zn</th>\n",
       "      <th>indus</th>\n",
       "      <th>chas</th>\n",
       "      <th>nox</th>\n",
       "      <th>rm</th>\n",
       "      <th>age</th>\n",
       "      <th>dis</th>\n",
       "      <th>rad</th>\n",
       "      <th>tax</th>\n",
       "      <th>ptratio</th>\n",
       "      <th>black</th>\n",
       "      <th>lstat</th>\n",
       "      <th>medv</th>\n",
       "    </tr>\n",
       "  </thead>\n",
       "  <tbody>\n",
       "    <tr>\n",
       "      <th>0</th>\n",
       "      <td>1</td>\n",
       "      <td>0.00632</td>\n",
       "      <td>18.0</td>\n",
       "      <td>2.31</td>\n",
       "      <td>0</td>\n",
       "      <td>0.538</td>\n",
       "      <td>6.575</td>\n",
       "      <td>65.2</td>\n",
       "      <td>4.0900</td>\n",
       "      <td>1</td>\n",
       "      <td>296</td>\n",
       "      <td>15.3</td>\n",
       "      <td>396.90</td>\n",
       "      <td>4.98</td>\n",
       "      <td>24.0</td>\n",
       "    </tr>\n",
       "    <tr>\n",
       "      <th>1</th>\n",
       "      <td>2</td>\n",
       "      <td>0.02731</td>\n",
       "      <td>0.0</td>\n",
       "      <td>7.07</td>\n",
       "      <td>0</td>\n",
       "      <td>0.469</td>\n",
       "      <td>6.421</td>\n",
       "      <td>78.9</td>\n",
       "      <td>4.9671</td>\n",
       "      <td>2</td>\n",
       "      <td>242</td>\n",
       "      <td>17.8</td>\n",
       "      <td>396.90</td>\n",
       "      <td>9.14</td>\n",
       "      <td>21.6</td>\n",
       "    </tr>\n",
       "    <tr>\n",
       "      <th>2</th>\n",
       "      <td>3</td>\n",
       "      <td>0.02729</td>\n",
       "      <td>0.0</td>\n",
       "      <td>7.07</td>\n",
       "      <td>0</td>\n",
       "      <td>0.469</td>\n",
       "      <td>7.185</td>\n",
       "      <td>61.1</td>\n",
       "      <td>4.9671</td>\n",
       "      <td>2</td>\n",
       "      <td>242</td>\n",
       "      <td>17.8</td>\n",
       "      <td>392.83</td>\n",
       "      <td>4.03</td>\n",
       "      <td>34.7</td>\n",
       "    </tr>\n",
       "    <tr>\n",
       "      <th>3</th>\n",
       "      <td>4</td>\n",
       "      <td>0.03237</td>\n",
       "      <td>0.0</td>\n",
       "      <td>2.18</td>\n",
       "      <td>0</td>\n",
       "      <td>0.458</td>\n",
       "      <td>6.998</td>\n",
       "      <td>45.8</td>\n",
       "      <td>6.0622</td>\n",
       "      <td>3</td>\n",
       "      <td>222</td>\n",
       "      <td>18.7</td>\n",
       "      <td>394.63</td>\n",
       "      <td>2.94</td>\n",
       "      <td>33.4</td>\n",
       "    </tr>\n",
       "    <tr>\n",
       "      <th>4</th>\n",
       "      <td>5</td>\n",
       "      <td>0.06905</td>\n",
       "      <td>0.0</td>\n",
       "      <td>2.18</td>\n",
       "      <td>0</td>\n",
       "      <td>0.458</td>\n",
       "      <td>7.147</td>\n",
       "      <td>54.2</td>\n",
       "      <td>6.0622</td>\n",
       "      <td>3</td>\n",
       "      <td>222</td>\n",
       "      <td>18.7</td>\n",
       "      <td>396.90</td>\n",
       "      <td>5.33</td>\n",
       "      <td>36.2</td>\n",
       "    </tr>\n",
       "  </tbody>\n",
       "</table>\n",
       "</div>"
      ],
      "text/plain": [
       "   Unnamed: 0     crim    zn  indus  chas    nox     rm   age     dis  rad  \\\n",
       "0           1  0.00632  18.0   2.31     0  0.538  6.575  65.2  4.0900    1   \n",
       "1           2  0.02731   0.0   7.07     0  0.469  6.421  78.9  4.9671    2   \n",
       "2           3  0.02729   0.0   7.07     0  0.469  7.185  61.1  4.9671    2   \n",
       "3           4  0.03237   0.0   2.18     0  0.458  6.998  45.8  6.0622    3   \n",
       "4           5  0.06905   0.0   2.18     0  0.458  7.147  54.2  6.0622    3   \n",
       "\n",
       "   tax  ptratio   black  lstat  medv  \n",
       "0  296     15.3  396.90   4.98  24.0  \n",
       "1  242     17.8  396.90   9.14  21.6  \n",
       "2  242     17.8  392.83   4.03  34.7  \n",
       "3  222     18.7  394.63   2.94  33.4  \n",
       "4  222     18.7  396.90   5.33  36.2  "
      ]
     },
     "execution_count": 2,
     "metadata": {},
     "output_type": "execute_result"
    }
   ],
   "source": [
    "DS = pd.read_csv(\"Boston.csv\")\n",
    "DS.head()"
   ]
  },
  {
   "cell_type": "code",
   "execution_count": 3,
   "id": "1f222cfa-0387-4d77-aefa-d435334b5bcb",
   "metadata": {},
   "outputs": [
    {
     "data": {
      "text/plain": [
       "(506, 15)"
      ]
     },
     "execution_count": 3,
     "metadata": {},
     "output_type": "execute_result"
    }
   ],
   "source": [
    "DS.shape"
   ]
  },
  {
   "cell_type": "code",
   "execution_count": 4,
   "id": "12148b3b-f2c3-45ba-920d-239b7c8e9440",
   "metadata": {},
   "outputs": [],
   "source": [
    "input_data = DS.iloc[:,:-1]\n",
    "output_data = DS[\"medv\"]"
   ]
  },
  {
   "cell_type": "code",
   "execution_count": 5,
   "id": "7be3024d-a510-46e9-949e-c9c05f044517",
   "metadata": {},
   "outputs": [],
   "source": [
    "from sklearn.model_selection import train_test_split"
   ]
  },
  {
   "cell_type": "code",
   "execution_count": 6,
   "id": "2bcfbf2c-9609-4acc-97a3-51fed0d7d9d5",
   "metadata": {},
   "outputs": [],
   "source": [
    "X_train ,x_test,y_train,y_test = train_test_split(input_data,output_data,test_size = 0.25)"
   ]
  },
  {
   "cell_type": "code",
   "execution_count": 7,
   "id": "72be8e28-484d-40b4-a5da-f3122e3ef98c",
   "metadata": {},
   "outputs": [
    {
     "data": {
      "text/plain": [
       "(     Unnamed: 0     crim    zn  indus  chas     nox     rm   age     dis  rad  \\\n",
       " 95           96  0.12204   0.0   2.89     0  0.4450  6.625  57.8  3.4952    2   \n",
       " 334         335  0.03738   0.0   5.19     0  0.5150  6.310  38.5  6.4584    5   \n",
       " 195         196  0.01381  80.0   0.46     0  0.4220  7.875  32.0  5.6484    4   \n",
       " 237         238  0.51183   0.0   6.20     0  0.5070  7.358  71.6  4.1480    8   \n",
       " 170         171  1.20742   0.0  19.58     0  0.6050  5.875  94.6  2.4259    5   \n",
       " ..          ...      ...   ...    ...   ...     ...    ...   ...     ...  ...   \n",
       " 217         218  0.07013   0.0  13.89     0  0.5500  6.642  85.1  3.4211    5   \n",
       " 84           85  0.05059   0.0   4.49     0  0.4490  6.389  48.0  4.7794    3   \n",
       " 18           19  0.80271   0.0   8.14     0  0.5380  5.456  36.6  3.7965    4   \n",
       " 97           98  0.12083   0.0   2.89     0  0.4450  8.069  76.0  3.4952    2   \n",
       " 279         280  0.21038  20.0   3.33     0  0.4429  6.812  32.2  4.1007    5   \n",
       " \n",
       "      tax  ptratio   black  lstat  \n",
       " 95   276     18.0  357.98   6.65  \n",
       " 334  224     20.2  389.40   6.75  \n",
       " 195  255     14.4  394.23   2.97  \n",
       " 237  307     17.4  390.07   4.73  \n",
       " 170  403     14.7  292.29  14.43  \n",
       " ..   ...      ...     ...    ...  \n",
       " 217  276     16.4  392.78   9.69  \n",
       " 84   247     18.5  396.90   9.62  \n",
       " 18   307     21.0  288.99  11.69  \n",
       " 97   276     18.0  396.90   4.21  \n",
       " 279  216     14.9  396.90   4.85  \n",
       " \n",
       " [379 rows x 14 columns],\n",
       "      Unnamed: 0      crim    zn  indus  chas    nox     rm   age     dis  rad  \\\n",
       " 488         489   0.15086   0.0  27.74     0  0.609  5.454  92.7  1.8209    4   \n",
       " 438         439  13.67810   0.0  18.10     0  0.740  5.935  87.9  1.8206   24   \n",
       " 376         377  15.28800   0.0  18.10     0  0.671  6.649  93.3  1.3449   24   \n",
       " 453         454   8.24809   0.0  18.10     0  0.713  7.393  99.3  2.4527   24   \n",
       " 65           66   0.03584  80.0   3.37     0  0.398  6.290  17.8  6.6115    4   \n",
       " ..          ...       ...   ...    ...   ...    ...    ...   ...     ...  ...   \n",
       " 205         206   0.13642   0.0  10.59     0  0.489  5.891  22.3  3.9454    4   \n",
       " 96           97   0.11504   0.0   2.89     0  0.445  6.163  69.6  3.4952    2   \n",
       " 461         462   3.69311   0.0  18.10     0  0.713  6.376  88.4  2.5671   24   \n",
       " 148         149   2.33099   0.0  19.58     0  0.871  5.186  93.8  1.5296    5   \n",
       " 265         266   0.76162  20.0   3.97     0  0.647  5.560  62.8  1.9865    5   \n",
       " \n",
       "      tax  ptratio   black  lstat  \n",
       " 488  711     20.1  395.09  18.06  \n",
       " 438  666     20.2   68.95  34.02  \n",
       " 376  666     20.2  363.02  23.24  \n",
       " 453  666     20.2  375.87  16.74  \n",
       " 65   337     16.1  396.90   4.67  \n",
       " ..   ...      ...     ...    ...  \n",
       " 205  277     18.6  396.90  10.87  \n",
       " 96   276     18.0  391.83  11.34  \n",
       " 461  666     20.2  391.43  14.65  \n",
       " 148  403     14.7  356.99  28.32  \n",
       " 265  264     13.0  392.40  10.45  \n",
       " \n",
       " [127 rows x 14 columns],\n",
       " 95     28.4\n",
       " 334    20.7\n",
       " 195    50.0\n",
       " 237    31.5\n",
       " 170    17.4\n",
       "        ... \n",
       " 217    28.7\n",
       " 84     23.9\n",
       " 18     20.2\n",
       " 97     38.7\n",
       " 279    35.1\n",
       " Name: medv, Length: 379, dtype: float64,\n",
       " 488    15.2\n",
       " 438     8.4\n",
       " 376    13.9\n",
       " 453    17.8\n",
       " 65     23.5\n",
       "        ... \n",
       " 205    22.6\n",
       " 96     21.4\n",
       " 461    17.7\n",
       " 148    17.8\n",
       " 265    22.8\n",
       " Name: medv, Length: 127, dtype: float64)"
      ]
     },
     "execution_count": 7,
     "metadata": {},
     "output_type": "execute_result"
    }
   ],
   "source": [
    "X_train ,x_test,y_train,y_test"
   ]
  },
  {
   "cell_type": "code",
   "execution_count": 8,
   "id": "5c19b898-5b99-4d39-92ad-460b7fc781e9",
   "metadata": {},
   "outputs": [
    {
     "data": {
      "text/plain": [
       "(379,)"
      ]
     },
     "execution_count": 8,
     "metadata": {},
     "output_type": "execute_result"
    }
   ],
   "source": [
    "y_train.shape"
   ]
  },
  {
   "cell_type": "markdown",
   "id": "9ec4915d-04a7-40c3-9d26-bb9405b1c609",
   "metadata": {},
   "source": [
    "- test_size=0.2: 20% for testing\n",
    "- random_state=42: Ensures reproducibility (same split every time)\n",
    "\n",
    "## Tips\n",
    "- For small datasets, consider using K-Fold Cross Validation instead.\n",
    "- Always scale/normalize data after splitting (fit scaler only on training set).\n"
   ]
  },
  {
   "cell_type": "code",
   "execution_count": null,
   "id": "e1ea20e1-bcb4-4df1-88d4-4ba91265f322",
   "metadata": {},
   "outputs": [],
   "source": []
  }
 ],
 "metadata": {
  "kernelspec": {
   "display_name": "Python 3 (ipykernel)",
   "language": "python",
   "name": "python3"
  },
  "language_info": {
   "codemirror_mode": {
    "name": "ipython",
    "version": 3
   },
   "file_extension": ".py",
   "mimetype": "text/x-python",
   "name": "python",
   "nbconvert_exporter": "python",
   "pygments_lexer": "ipython3",
   "version": "3.12.6"
  },
  "widgets": {
   "application/vnd.jupyter.widget-state+json": {
    "state": {},
    "version_major": 2,
    "version_minor": 0
   }
  }
 },
 "nbformat": 4,
 "nbformat_minor": 5
}
