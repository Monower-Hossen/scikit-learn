{
 "cells": [
  {
   "cell_type": "markdown",
   "id": "47e62769-2a10-46e1-afab-d56a47ac33c8",
   "metadata": {},
   "source": [
    "## 🔁 Backward Elimination (via MLxtend)\n",
    "Definition:Backward Elimination is a feature selection technique that starts with all features and removes the least significant one at a time until removing more features would harm model performance.\n",
    "\n",
    "⚙️ How it works (with MLxtend):\n",
    "- Start with all features.\n",
    "- Remove one feature at a time.\n",
    "- Evaluate model performance.\n",
    "- Eliminate the feature whose removal improves or least affects the model performance.\n",
    "- Repeat until a stopping criterion is met (e.g., fixed number of features or no improvement).\n",
    "\n",
    "🎯 Why use it?\n",
    "- Reduces overfitting by eliminating irrelevant or redundant features.\n",
    "- Makes the model simpler and faster.\n",
    "- Helps interpret the model by reducing the number of predictors.\n",
    "\n",
    "## ➕ Forward Elimination (via MLxtend)\n",
    "✅ Definition:\n",
    "Forward Elimination is a feature selection technique that starts with no features and adds the most significant feature one at a time until no further improvement is achieved.\n",
    "\n",
    "⚙️ How it works (with MLxtend):\n",
    "- Start with no features.\n",
    "- Add one feature at a time.\n",
    "- Evaluate model performance.\n",
    "- Keep the feature that improves performance the most.\n",
    "- Repeat until the model performance stops improving or a desired number of features is reached.\n",
    "\n",
    "🎯 Why use it?\n",
    "- Useful when you want to build a model from scratch with only the most important features.\n",
    "- Helps reduce model complexity.\n",
    "- Often used when the number of features is very large.\n",
    "\n"
   ]
  },
  {
   "cell_type": "markdown",
   "id": "0ccb270e-1782-4472-baac-c774050ceea2",
   "metadata": {},
   "source": [
    "## 🧠 Code Walkthrough"
   ]
  },
  {
   "cell_type": "code",
   "execution_count": 1,
   "id": "17a46881-88aa-4fdf-9b67-d538f44ecc9d",
   "metadata": {},
   "outputs": [],
   "source": [
    "import pandas as pd\n",
    "from mlxtend.feature_selection import SequentialFeatureSelector"
   ]
  },
  {
   "cell_type": "markdown",
   "id": "537c8dc5-5279-4bb5-b177-0bfcbce58e3d",
   "metadata": {},
   "source": [
    "## 🟢 Step 1: Load Dataset"
   ]
  },
  {
   "cell_type": "code",
   "execution_count": 2,
   "id": "652cb6f4-848a-44ba-9ad4-6a81aab880fd",
   "metadata": {},
   "outputs": [
    {
     "data": {
      "text/html": [
       "<div>\n",
       "<style scoped>\n",
       "    .dataframe tbody tr th:only-of-type {\n",
       "        vertical-align: middle;\n",
       "    }\n",
       "\n",
       "    .dataframe tbody tr th {\n",
       "        vertical-align: top;\n",
       "    }\n",
       "\n",
       "    .dataframe thead th {\n",
       "        text-align: right;\n",
       "    }\n",
       "</style>\n",
       "<table border=\"1\" class=\"dataframe\">\n",
       "  <thead>\n",
       "    <tr style=\"text-align: right;\">\n",
       "      <th></th>\n",
       "      <th>Glucose</th>\n",
       "      <th>BloodPressure</th>\n",
       "      <th>SkinThickness</th>\n",
       "      <th>BMI</th>\n",
       "      <th>Age</th>\n",
       "      <th>Outcome</th>\n",
       "    </tr>\n",
       "  </thead>\n",
       "  <tbody>\n",
       "    <tr>\n",
       "      <th>0</th>\n",
       "      <td>148</td>\n",
       "      <td>72</td>\n",
       "      <td>35</td>\n",
       "      <td>33.6</td>\n",
       "      <td>50</td>\n",
       "      <td>1</td>\n",
       "    </tr>\n",
       "    <tr>\n",
       "      <th>1</th>\n",
       "      <td>85</td>\n",
       "      <td>66</td>\n",
       "      <td>29</td>\n",
       "      <td>26.6</td>\n",
       "      <td>31</td>\n",
       "      <td>0</td>\n",
       "    </tr>\n",
       "    <tr>\n",
       "      <th>2</th>\n",
       "      <td>183</td>\n",
       "      <td>64</td>\n",
       "      <td>0</td>\n",
       "      <td>23.3</td>\n",
       "      <td>32</td>\n",
       "      <td>1</td>\n",
       "    </tr>\n",
       "    <tr>\n",
       "      <th>3</th>\n",
       "      <td>89</td>\n",
       "      <td>66</td>\n",
       "      <td>23</td>\n",
       "      <td>28.1</td>\n",
       "      <td>21</td>\n",
       "      <td>0</td>\n",
       "    </tr>\n",
       "    <tr>\n",
       "      <th>4</th>\n",
       "      <td>137</td>\n",
       "      <td>40</td>\n",
       "      <td>35</td>\n",
       "      <td>43.1</td>\n",
       "      <td>33</td>\n",
       "      <td>1</td>\n",
       "    </tr>\n",
       "  </tbody>\n",
       "</table>\n",
       "</div>"
      ],
      "text/plain": [
       "   Glucose  BloodPressure  SkinThickness   BMI  Age  Outcome\n",
       "0      148             72             35  33.6   50        1\n",
       "1       85             66             29  26.6   31        0\n",
       "2      183             64              0  23.3   32        1\n",
       "3       89             66             23  28.1   21        0\n",
       "4      137             40             35  43.1   33        1"
      ]
     },
     "execution_count": 2,
     "metadata": {},
     "output_type": "execute_result"
    }
   ],
   "source": [
    "# Read only specific columns from the CSV\n",
    "df = pd.read_csv(\"diabetes.csv\", usecols=[\"Glucose\", \"BloodPressure\",\"SkinThickness\",\"BMI\",\"Age\",\"Outcome\"])\n",
    "df.head(5)"
   ]
  },
  {
   "cell_type": "markdown",
   "id": "9828a466-48cc-4bf0-8f44-826ec8b1d755",
   "metadata": {},
   "source": [
    "- Loads selected columns from diabetes.csv.\n",
    "- The target variable is Outcome."
   ]
  },
  {
   "cell_type": "code",
   "execution_count": 3,
   "id": "7bb8f771-81b2-4165-91a5-ba1c48bb4a3c",
   "metadata": {},
   "outputs": [],
   "source": [
    "X = df.iloc[:, :-1]  # all columns except 'Outcome'\n",
    "y = df['Outcome']    # target column"
   ]
  },
  {
   "cell_type": "markdown",
   "id": "5223c243-4488-40dd-a10a-947438e7328f",
   "metadata": {},
   "source": [
    "- X contains features: Glucose, BloodPressure, SkinThickness, BMI, Age.\n",
    "- y is the target: Outcome."
   ]
  },
  {
   "cell_type": "code",
   "execution_count": 4,
   "id": "9df4126a-f425-4496-8b5a-002e52c28771",
   "metadata": {},
   "outputs": [
    {
     "data": {
      "text/plain": [
       "(768, 5)"
      ]
     },
     "execution_count": 4,
     "metadata": {},
     "output_type": "execute_result"
    }
   ],
   "source": [
    "X.shape"
   ]
  },
  {
   "cell_type": "markdown",
   "id": "987a4765-56e4-4c40-81c2-a8d6da959328",
   "metadata": {},
   "source": [
    "## 🟢 Step 3: Logistic Regression Model"
   ]
  },
  {
   "cell_type": "code",
   "execution_count": 5,
   "id": "2f009801-e4da-48f6-b8c5-de331cc2764e",
   "metadata": {},
   "outputs": [],
   "source": [
    "from sklearn.linear_model import LogisticRegression"
   ]
  },
  {
   "cell_type": "code",
   "execution_count": 6,
   "id": "785cda0a-cf9a-4f2a-8e7c-38413d707aea",
   "metadata": {},
   "outputs": [],
   "source": [
    "lr = LogisticRegression()"
   ]
  },
  {
   "cell_type": "markdown",
   "id": "352420e4-ff59-4387-be44-0978e24712f7",
   "metadata": {},
   "source": [
    "- Initializes the logistic regression model."
   ]
  },
  {
   "cell_type": "markdown",
   "id": "3b250224-6333-462c-bf3f-e68c6f287d2a",
   "metadata": {},
   "source": [
    "## 🔼 Forward Elimination"
   ]
  },
  {
   "cell_type": "code",
   "execution_count": 7,
   "id": "1a27aada-7834-4283-8e5c-dfef547280fa",
   "metadata": {},
   "outputs": [],
   "source": [
    "sfs = SequentialFeatureSelector(lr,\n",
    "                                k_features=4,        # You can change this number\n",
    "                                forward=True,\n",
    "                                scoring='accuracy',\n",
    "                                cv=5)\n",
    "\n",
    "sfs = sfs.fit(X, y)"
   ]
  },
  {
   "cell_type": "markdown",
   "id": "8b83b754-8ada-45d9-8f43-1bdd09d8edd9",
   "metadata": {},
   "source": [
    "- Performs forward feature selection to find the best 4 features."
   ]
  },
  {
   "cell_type": "code",
   "execution_count": 8,
   "id": "80703d78-18ce-4c7a-8775-9d9ec5d1dfef",
   "metadata": {},
   "outputs": [
    {
     "data": {
      "text/plain": [
       "['Glucose', 'BloodPressure', 'SkinThickness', 'BMI', 'Age']"
      ]
     },
     "execution_count": 8,
     "metadata": {},
     "output_type": "execute_result"
    }
   ],
   "source": [
    "sfs.feature_names"
   ]
  },
  {
   "cell_type": "code",
   "execution_count": 9,
   "id": "8c44f29d-2958-4f57-bf4f-e81d07fe48e2",
   "metadata": {},
   "outputs": [
    {
     "data": {
      "text/plain": [
       "('Glucose', 'BloodPressure', 'BMI', 'Age')"
      ]
     },
     "execution_count": 9,
     "metadata": {},
     "output_type": "execute_result"
    }
   ],
   "source": [
    "sfs.k_feature_names_"
   ]
  },
  {
   "cell_type": "code",
   "execution_count": 10,
   "id": "07421292-d00e-40a7-847e-65053a3e481a",
   "metadata": {},
   "outputs": [
    {
     "data": {
      "text/plain": [
       "np.float64(0.7682709447415329)"
      ]
     },
     "execution_count": 10,
     "metadata": {},
     "output_type": "execute_result"
    }
   ],
   "source": [
    "sfs.k_score_"
   ]
  },
  {
   "cell_type": "code",
   "execution_count": 11,
   "id": "b9fc5d54-c2c7-4f76-872f-5cfe4283da82",
   "metadata": {},
   "outputs": [
    {
     "data": {
      "text/plain": [
       "3.2316951022833376"
      ]
     },
     "execution_count": 11,
     "metadata": {},
     "output_type": "execute_result"
    }
   ],
   "source": [
    "4- 0.7683048977166624"
   ]
  },
  {
   "cell_type": "markdown",
   "id": "95b7b5d9-f94c-4cf6-8044-619060b80912",
   "metadata": {},
   "source": [
    "## 🔽 Backward Elimination"
   ]
  },
  {
   "cell_type": "code",
   "execution_count": 12,
   "id": "2550a774-f4b1-4c92-b142-4ddfeaa46488",
   "metadata": {},
   "outputs": [],
   "source": [
    "sfs = SequentialFeatureSelector(lr,\n",
    "                                k_features=4,        # You can change this number\n",
    "                                forward=False,\n",
    "                                scoring='accuracy',\n",
    "                                cv=5)\n",
    "\n",
    "sfs = sfs.fit(X, y)"
   ]
  },
  {
   "cell_type": "markdown",
   "id": "bb9020d6-9ccc-4332-8125-a930fbc8fdb0",
   "metadata": {},
   "source": [
    "- Does the reverse: starts with all features, removes least useful ones."
   ]
  },
  {
   "cell_type": "code",
   "execution_count": 13,
   "id": "20481977-170b-4b57-9ddb-93e95a2ad020",
   "metadata": {},
   "outputs": [
    {
     "data": {
      "text/plain": [
       "['Glucose', 'BloodPressure', 'SkinThickness', 'BMI', 'Age']"
      ]
     },
     "execution_count": 13,
     "metadata": {},
     "output_type": "execute_result"
    }
   ],
   "source": [
    "sfs.feature_names"
   ]
  },
  {
   "cell_type": "code",
   "execution_count": 14,
   "id": "894487a3-dc38-49eb-85cb-c3323900e8be",
   "metadata": {},
   "outputs": [
    {
     "data": {
      "text/plain": [
       "('Glucose', 'BloodPressure', 'BMI', 'Age')"
      ]
     },
     "execution_count": 14,
     "metadata": {},
     "output_type": "execute_result"
    }
   ],
   "source": [
    "sfs.k_feature_names_"
   ]
  },
  {
   "cell_type": "code",
   "execution_count": 15,
   "id": "2eee962b-f556-44fd-bed8-4b4d72a99870",
   "metadata": {},
   "outputs": [
    {
     "data": {
      "text/plain": [
       "np.float64(0.7682709447415329)"
      ]
     },
     "execution_count": 15,
     "metadata": {},
     "output_type": "execute_result"
    }
   ],
   "source": [
    "sfs.k_score_"
   ]
  }
 ],
 "metadata": {
  "kernelspec": {
   "display_name": "Python 3 (ipykernel)",
   "language": "python",
   "name": "python3"
  },
  "language_info": {
   "codemirror_mode": {
    "name": "ipython",
    "version": 3
   },
   "file_extension": ".py",
   "mimetype": "text/x-python",
   "name": "python",
   "nbconvert_exporter": "python",
   "pygments_lexer": "ipython3",
   "version": "3.12.6"
  },
  "widgets": {
   "application/vnd.jupyter.widget-state+json": {
    "state": {},
    "version_major": 2,
    "version_minor": 0
   }
  }
 },
 "nbformat": 4,
 "nbformat_minor": 5
}
