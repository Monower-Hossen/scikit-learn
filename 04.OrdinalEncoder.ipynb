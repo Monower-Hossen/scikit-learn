{
 "cells": [
  {
   "cell_type": "markdown",
   "id": "fe829022-85b2-4a62-8710-484ab6e53436",
   "metadata": {},
   "source": [
    "# 📦 Cell 1: Importing Required Libraries"
   ]
  },
  {
   "cell_type": "code",
   "execution_count": 1,
   "id": "95860b91-3648-4405-b10b-22c94faa3369",
   "metadata": {},
   "outputs": [],
   "source": [
    "# Import necessary libraries\n",
    "import pandas as pd\n",
    "from sklearn.preprocessing import OrdinalEncoder"
   ]
  },
  {
   "cell_type": "markdown",
   "id": "9e2a7058-0239-4f8d-924e-fd8c40d4a1ab",
   "metadata": {},
   "source": [
    "# 🧾 Cell 2: Creating Sample Data"
   ]
  },
  {
   "cell_type": "code",
   "execution_count": 2,
   "id": "a4eedf10-8bd9-4f6a-91df-de0d843fa7a9",
   "metadata": {},
   "outputs": [
    {
     "data": {
      "text/html": [
       "<div>\n",
       "<style scoped>\n",
       "    .dataframe tbody tr th:only-of-type {\n",
       "        vertical-align: middle;\n",
       "    }\n",
       "\n",
       "    .dataframe tbody tr th {\n",
       "        vertical-align: top;\n",
       "    }\n",
       "\n",
       "    .dataframe thead th {\n",
       "        text-align: right;\n",
       "    }\n",
       "</style>\n",
       "<table border=\"1\" class=\"dataframe\">\n",
       "  <thead>\n",
       "    <tr style=\"text-align: right;\">\n",
       "      <th></th>\n",
       "      <th>Color</th>\n",
       "    </tr>\n",
       "  </thead>\n",
       "  <tbody>\n",
       "    <tr>\n",
       "      <th>0</th>\n",
       "      <td>Red</td>\n",
       "    </tr>\n",
       "    <tr>\n",
       "      <th>1</th>\n",
       "      <td>Green</td>\n",
       "    </tr>\n",
       "    <tr>\n",
       "      <th>2</th>\n",
       "      <td>Blue</td>\n",
       "    </tr>\n",
       "    <tr>\n",
       "      <th>3</th>\n",
       "      <td>Green</td>\n",
       "    </tr>\n",
       "    <tr>\n",
       "      <th>4</th>\n",
       "      <td>Red</td>\n",
       "    </tr>\n",
       "    <tr>\n",
       "      <th>5</th>\n",
       "      <td>Blue</td>\n",
       "    </tr>\n",
       "  </tbody>\n",
       "</table>\n",
       "</div>"
      ],
      "text/plain": [
       "   Color\n",
       "0    Red\n",
       "1  Green\n",
       "2   Blue\n",
       "3  Green\n",
       "4    Red\n",
       "5   Blue"
      ]
     },
     "execution_count": 2,
     "metadata": {},
     "output_type": "execute_result"
    }
   ],
   "source": [
    "# Create a sample dataset with categorical values\n",
    "data = {\n",
    "    'Color': ['Red', 'Green', 'Blue', 'Green', 'Red', 'Blue']\n",
    "}\n",
    "df = pd.DataFrame(data)\n",
    "df"
   ]
  },
  {
   "cell_type": "markdown",
   "id": "d444c472-45ca-42fc-b5c4-34e1b93979cd",
   "metadata": {},
   "source": [
    "# 🔍 Cell 3: Initialize and Fit OrdinalEncoder"
   ]
  },
  {
   "cell_type": "code",
   "execution_count": 3,
   "id": "6e0fc9f4-48b4-43d4-93bc-95fa831be2a0",
   "metadata": {},
   "outputs": [],
   "source": [
    "# Initialize the OrdinalEncoder\n",
    "encoder = OrdinalEncoder()\n",
    "\n",
    "# Fit and transform the 'Color' column\n",
    "encoded_color = encoder.fit_transform(df[['Color']])\n"
   ]
  },
  {
   "cell_type": "markdown",
   "id": "ecddd615-33ef-408d-b1a6-5ded62f97437",
   "metadata": {},
   "source": [
    "# 🧮 Cell 4: Add Encoded Values to DataFrame"
   ]
  },
  {
   "cell_type": "code",
   "execution_count": 4,
   "id": "e4edada7-a30e-4f60-a92f-9babcdc481f0",
   "metadata": {},
   "outputs": [
    {
     "data": {
      "text/html": [
       "<div>\n",
       "<style scoped>\n",
       "    .dataframe tbody tr th:only-of-type {\n",
       "        vertical-align: middle;\n",
       "    }\n",
       "\n",
       "    .dataframe tbody tr th {\n",
       "        vertical-align: top;\n",
       "    }\n",
       "\n",
       "    .dataframe thead th {\n",
       "        text-align: right;\n",
       "    }\n",
       "</style>\n",
       "<table border=\"1\" class=\"dataframe\">\n",
       "  <thead>\n",
       "    <tr style=\"text-align: right;\">\n",
       "      <th></th>\n",
       "      <th>Color</th>\n",
       "      <th>Color_Encoded</th>\n",
       "    </tr>\n",
       "  </thead>\n",
       "  <tbody>\n",
       "    <tr>\n",
       "      <th>0</th>\n",
       "      <td>Red</td>\n",
       "      <td>2.0</td>\n",
       "    </tr>\n",
       "    <tr>\n",
       "      <th>1</th>\n",
       "      <td>Green</td>\n",
       "      <td>1.0</td>\n",
       "    </tr>\n",
       "    <tr>\n",
       "      <th>2</th>\n",
       "      <td>Blue</td>\n",
       "      <td>0.0</td>\n",
       "    </tr>\n",
       "    <tr>\n",
       "      <th>3</th>\n",
       "      <td>Green</td>\n",
       "      <td>1.0</td>\n",
       "    </tr>\n",
       "    <tr>\n",
       "      <th>4</th>\n",
       "      <td>Red</td>\n",
       "      <td>2.0</td>\n",
       "    </tr>\n",
       "    <tr>\n",
       "      <th>5</th>\n",
       "      <td>Blue</td>\n",
       "      <td>0.0</td>\n",
       "    </tr>\n",
       "  </tbody>\n",
       "</table>\n",
       "</div>"
      ],
      "text/plain": [
       "   Color  Color_Encoded\n",
       "0    Red            2.0\n",
       "1  Green            1.0\n",
       "2   Blue            0.0\n",
       "3  Green            1.0\n",
       "4    Red            2.0\n",
       "5   Blue            0.0"
      ]
     },
     "execution_count": 4,
     "metadata": {},
     "output_type": "execute_result"
    }
   ],
   "source": [
    "# Add the encoded values as a new column\n",
    "df['Color_Encoded'] = encoded_color\n",
    "df"
   ]
  },
  {
   "cell_type": "markdown",
   "id": "53e1a92d-f9cf-4f84-ba4e-5030bce0f6c1",
   "metadata": {},
   "source": [
    "# 📊 Cell 5: Check the Encoding Categories"
   ]
  },
  {
   "cell_type": "code",
   "execution_count": 4,
   "id": "ecadd92e-4fca-4cd2-a8ae-9702d2407eee",
   "metadata": {},
   "outputs": [
    {
     "data": {
      "text/plain": [
       "[array(['Blue', 'Green', 'Red'], dtype=object)]"
      ]
     },
     "execution_count": 4,
     "metadata": {},
     "output_type": "execute_result"
    }
   ],
   "source": [
    "# Show the categories used for encoding\n",
    "encoder.categories_"
   ]
  },
  {
   "cell_type": "code",
   "execution_count": 7,
   "id": "c184f6f4-9b63-46a5-959a-e38322ac68cc",
   "metadata": {},
   "outputs": [
    {
     "name": "stdout",
     "output_type": "stream",
     "text": [
      "[[1. 2.]\n",
      " [2. 0.]\n",
      " [0. 1.]]\n"
     ]
    }
   ],
   "source": [
    "from sklearn.preprocessing import OrdinalEncoder\n",
    "\n",
    "data = [['Low', 'Red'],\n",
    "        ['Medium', 'Blue'],\n",
    "        ['High', 'Green']]\n",
    "\n",
    "encoder = OrdinalEncoder()\n",
    "encoded = encoder.fit_transform(data)\n",
    "\n",
    "print(encoded)\n"
   ]
  },
  {
   "cell_type": "code",
   "execution_count": null,
   "id": "89ce6615-ce93-4c4f-9fae-48f307aa7a97",
   "metadata": {},
   "outputs": [],
   "source": []
  }
 ],
 "metadata": {
  "kernelspec": {
   "display_name": "Python 3 (ipykernel)",
   "language": "python",
   "name": "python3"
  },
  "language_info": {
   "codemirror_mode": {
    "name": "ipython",
    "version": 3
   },
   "file_extension": ".py",
   "mimetype": "text/x-python",
   "name": "python",
   "nbconvert_exporter": "python",
   "pygments_lexer": "ipython3",
   "version": "3.12.6"
  }
 },
 "nbformat": 4,
 "nbformat_minor": 5
}
